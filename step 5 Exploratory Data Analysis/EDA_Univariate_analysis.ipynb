{
 "cells": [
  {
   "cell_type": "code",
   "execution_count": 46,
   "id": "72cdc47a",
   "metadata": {},
   "outputs": [],
   "source": [
    "import numpy as np\n",
    "import pandas as pd\n",
    "import seaborn as sns\n",
    "import matplotlib.pyplot as plt"
   ]
  },
  {
   "cell_type": "code",
   "execution_count": 2,
   "id": "19caacf4",
   "metadata": {},
   "outputs": [],
   "source": [
    "import os\n",
    "from sqlalchemy import create_engine\n",
    "from dotenv import load_dotenv\n",
    "import pymysql\n",
    "import pyodbc"
   ]
  },
  {
   "cell_type": "code",
   "execution_count": 3,
   "id": "6b51e760",
   "metadata": {},
   "outputs": [
    {
     "name": "stdout",
     "output_type": "stream",
     "text": [
      "True\n"
     ]
    }
   ],
   "source": [
    "# Load .env variables\n",
    "from dotenv import load_dotenv\n",
    "print(load_dotenv())"
   ]
  },
  {
   "cell_type": "code",
   "execution_count": 4,
   "id": "3964d0ee",
   "metadata": {},
   "outputs": [],
   "source": [
    "# Create MySQL connection (AWS RDS)\n",
    "mysql_engine = create_engine(\n",
    "    f\"mysql+pymysql://{os.getenv('MYSQL_USER')}:{os.getenv('MYSQL_PASS')}@{os.getenv('MYSQL_HOST')}/{os.getenv('MYSQL_DB')}\"\n",
    ")\n",
    "\n",
    "# Create MSSQL connection\n",
    "mssql_engine = create_engine(\n",
    "    f\"mssql+pyodbc://{os.getenv('MSSQL_USER')}:{os.getenv('MSSQL_PASS')}@{os.getenv('MSSQL_HOST')}/{os.getenv('MSSQL_DB')}?driver={os.getenv('MSSQL_DRIVER')}&Encrypt=yes&TrustServerCertificate=no\"\n",
    ")"
   ]
  },
  {
   "cell_type": "code",
   "execution_count": 5,
   "id": "91473a59",
   "metadata": {},
   "outputs": [
    {
     "data": {
      "text/html": [
       "<div>\n",
       "<style scoped>\n",
       "    .dataframe tbody tr th:only-of-type {\n",
       "        vertical-align: middle;\n",
       "    }\n",
       "\n",
       "    .dataframe tbody tr th {\n",
       "        vertical-align: top;\n",
       "    }\n",
       "\n",
       "    .dataframe thead th {\n",
       "        text-align: right;\n",
       "    }\n",
       "</style>\n",
       "<table border=\"1\" class=\"dataframe\">\n",
       "  <thead>\n",
       "    <tr style=\"text-align: right;\">\n",
       "      <th></th>\n",
       "      <th>property_type</th>\n",
       "      <th>society</th>\n",
       "      <th>sector</th>\n",
       "      <th>price</th>\n",
       "      <th>price_per_sqft</th>\n",
       "      <th>area</th>\n",
       "      <th>areaWithType</th>\n",
       "      <th>bedRoom</th>\n",
       "      <th>bathroom</th>\n",
       "      <th>balcony</th>\n",
       "      <th>...</th>\n",
       "      <th>super_built_up_area</th>\n",
       "      <th>built_up_area</th>\n",
       "      <th>carpet_area</th>\n",
       "      <th>study room</th>\n",
       "      <th>servant room</th>\n",
       "      <th>store room</th>\n",
       "      <th>pooja room</th>\n",
       "      <th>others</th>\n",
       "      <th>furnishing_type</th>\n",
       "      <th>luxury_score</th>\n",
       "    </tr>\n",
       "  </thead>\n",
       "  <tbody>\n",
       "    <tr>\n",
       "      <th>0</th>\n",
       "      <td>house</td>\n",
       "      <td>None</td>\n",
       "      <td>sector 4</td>\n",
       "      <td>0.67</td>\n",
       "      <td>8557.0</td>\n",
       "      <td>783.0</td>\n",
       "      <td>Plot area 87(72.74 sq.m.)</td>\n",
       "      <td>3</td>\n",
       "      <td>2</td>\n",
       "      <td>1</td>\n",
       "      <td>...</td>\n",
       "      <td>NaN</td>\n",
       "      <td>783.0</td>\n",
       "      <td>NaN</td>\n",
       "      <td>0</td>\n",
       "      <td>0</td>\n",
       "      <td>0</td>\n",
       "      <td>1</td>\n",
       "      <td>1</td>\n",
       "      <td>0</td>\n",
       "      <td>19</td>\n",
       "    </tr>\n",
       "    <tr>\n",
       "      <th>1</th>\n",
       "      <td>flat</td>\n",
       "      <td>zara aavaas</td>\n",
       "      <td>sector 104</td>\n",
       "      <td>0.65</td>\n",
       "      <td>8519.0</td>\n",
       "      <td>763.0</td>\n",
       "      <td>Carpet area: 763 (70.89 sq.m.)</td>\n",
       "      <td>3</td>\n",
       "      <td>2</td>\n",
       "      <td>2</td>\n",
       "      <td>...</td>\n",
       "      <td>NaN</td>\n",
       "      <td>NaN</td>\n",
       "      <td>763.0</td>\n",
       "      <td>0</td>\n",
       "      <td>0</td>\n",
       "      <td>0</td>\n",
       "      <td>0</td>\n",
       "      <td>0</td>\n",
       "      <td>0</td>\n",
       "      <td>65</td>\n",
       "    </tr>\n",
       "    <tr>\n",
       "      <th>2</th>\n",
       "      <td>house</td>\n",
       "      <td>DLF New Town Heights 24.0 ★</td>\n",
       "      <td>sector 86</td>\n",
       "      <td>2.47</td>\n",
       "      <td>7718.0</td>\n",
       "      <td>3200.0</td>\n",
       "      <td>Plot area 3200(297.29 sq.m.)Built Up area: 280...</td>\n",
       "      <td>4</td>\n",
       "      <td>4</td>\n",
       "      <td>3+</td>\n",
       "      <td>...</td>\n",
       "      <td>NaN</td>\n",
       "      <td>2800.0</td>\n",
       "      <td>2200.0</td>\n",
       "      <td>0</td>\n",
       "      <td>1</td>\n",
       "      <td>0</td>\n",
       "      <td>1</td>\n",
       "      <td>0</td>\n",
       "      <td>2</td>\n",
       "      <td>130</td>\n",
       "    </tr>\n",
       "    <tr>\n",
       "      <th>3</th>\n",
       "      <td>flat</td>\n",
       "      <td>shree vardhman victoria</td>\n",
       "      <td>sector 70</td>\n",
       "      <td>1.65</td>\n",
       "      <td>8461.0</td>\n",
       "      <td>1950.0</td>\n",
       "      <td>Super Built up area 1950(181.16 sq.m.)Carpet a...</td>\n",
       "      <td>3</td>\n",
       "      <td>4</td>\n",
       "      <td>3</td>\n",
       "      <td>...</td>\n",
       "      <td>1950.0</td>\n",
       "      <td>NaN</td>\n",
       "      <td>1161.0</td>\n",
       "      <td>0</td>\n",
       "      <td>1</td>\n",
       "      <td>0</td>\n",
       "      <td>0</td>\n",
       "      <td>1</td>\n",
       "      <td>2</td>\n",
       "      <td>49</td>\n",
       "    </tr>\n",
       "    <tr>\n",
       "      <th>4</th>\n",
       "      <td>flat</td>\n",
       "      <td>central park resort belgravia residences</td>\n",
       "      <td>sector 48</td>\n",
       "      <td>6.25</td>\n",
       "      <td>24300.0</td>\n",
       "      <td>2572.0</td>\n",
       "      <td>Carpet area: 2880 (267.56 sq.m.)</td>\n",
       "      <td>3</td>\n",
       "      <td>5</td>\n",
       "      <td>3+</td>\n",
       "      <td>...</td>\n",
       "      <td>NaN</td>\n",
       "      <td>NaN</td>\n",
       "      <td>2880.0</td>\n",
       "      <td>0</td>\n",
       "      <td>1</td>\n",
       "      <td>0</td>\n",
       "      <td>0</td>\n",
       "      <td>0</td>\n",
       "      <td>2</td>\n",
       "      <td>49</td>\n",
       "    </tr>\n",
       "  </tbody>\n",
       "</table>\n",
       "<p>5 rows × 23 columns</p>\n",
       "</div>"
      ],
      "text/plain": [
       "  property_type                                   society      sector  price  \\\n",
       "0         house                                      None    sector 4   0.67   \n",
       "1          flat                               zara aavaas  sector 104   0.65   \n",
       "2         house               DLF New Town Heights 24.0 ★   sector 86   2.47   \n",
       "3          flat                   shree vardhman victoria   sector 70   1.65   \n",
       "4          flat  central park resort belgravia residences   sector 48   6.25   \n",
       "\n",
       "   price_per_sqft    area                                       areaWithType  \\\n",
       "0          8557.0   783.0                          Plot area 87(72.74 sq.m.)   \n",
       "1          8519.0   763.0                     Carpet area: 763 (70.89 sq.m.)   \n",
       "2          7718.0  3200.0  Plot area 3200(297.29 sq.m.)Built Up area: 280...   \n",
       "3          8461.0  1950.0  Super Built up area 1950(181.16 sq.m.)Carpet a...   \n",
       "4         24300.0  2572.0                   Carpet area: 2880 (267.56 sq.m.)   \n",
       "\n",
       "   bedRoom  bathroom balcony  ... super_built_up_area built_up_area  \\\n",
       "0        3         2       1  ...                 NaN         783.0   \n",
       "1        3         2       2  ...                 NaN           NaN   \n",
       "2        4         4      3+  ...                 NaN        2800.0   \n",
       "3        3         4       3  ...              1950.0           NaN   \n",
       "4        3         5      3+  ...                 NaN           NaN   \n",
       "\n",
       "  carpet_area  study room  servant room  store room  pooja room  others  \\\n",
       "0         NaN           0             0           0           1       1   \n",
       "1       763.0           0             0           0           0       0   \n",
       "2      2200.0           0             1           0           1       0   \n",
       "3      1161.0           0             1           0           0       1   \n",
       "4      2880.0           0             1           0           0       0   \n",
       "\n",
       "   furnishing_type  luxury_score  \n",
       "0                0            19  \n",
       "1                0            65  \n",
       "2                2           130  \n",
       "3                2            49  \n",
       "4                2            49  \n",
       "\n",
       "[5 rows x 23 columns]"
      ]
     },
     "execution_count": 5,
     "metadata": {},
     "output_type": "execute_result"
    }
   ],
   "source": [
    "# Read from AWS MySQL\n",
    "df = pd.read_sql(\"SELECT * FROM gurgaon_properties_cleaned_v2\", con=mysql_engine)\n",
    "df.head()"
   ]
  },
  {
   "cell_type": "code",
   "execution_count": 6,
   "id": "3f52c52e",
   "metadata": {},
   "outputs": [
    {
     "data": {
      "text/plain": [
       "(3679, 23)"
      ]
     },
     "execution_count": 6,
     "metadata": {},
     "output_type": "execute_result"
    }
   ],
   "source": [
    "df.shape"
   ]
  },
  {
   "cell_type": "code",
   "execution_count": 7,
   "id": "d9a87282",
   "metadata": {},
   "outputs": [
    {
     "name": "stdout",
     "output_type": "stream",
     "text": [
      "<class 'pandas.core.frame.DataFrame'>\n",
      "RangeIndex: 3679 entries, 0 to 3678\n",
      "Data columns (total 23 columns):\n",
      " #   Column               Non-Null Count  Dtype  \n",
      "---  ------               --------------  -----  \n",
      " 0   property_type        3679 non-null   object \n",
      " 1   society              3193 non-null   object \n",
      " 2   sector               3679 non-null   object \n",
      " 3   price                3663 non-null   float64\n",
      " 4   price_per_sqft       3663 non-null   float64\n",
      " 5   area                 3663 non-null   float64\n",
      " 6   areaWithType         3679 non-null   object \n",
      " 7   bedRoom              3679 non-null   int64  \n",
      " 8   bathroom             3679 non-null   int64  \n",
      " 9   balcony              3679 non-null   object \n",
      " 10  floorNum             3662 non-null   object \n",
      " 11  facing               3679 non-null   object \n",
      " 12  agePossession        3679 non-null   object \n",
      " 13  super_built_up_area  1877 non-null   float64\n",
      " 14  built_up_area        1690 non-null   float64\n",
      " 15  carpet_area          1874 non-null   float64\n",
      " 16  study room           3679 non-null   int64  \n",
      " 17  servant room         3679 non-null   int64  \n",
      " 18  store room           3679 non-null   int64  \n",
      " 19  pooja room           3679 non-null   int64  \n",
      " 20  others               3679 non-null   int64  \n",
      " 21  furnishing_type      3679 non-null   int64  \n",
      " 22  luxury_score         3679 non-null   int64  \n",
      "dtypes: float64(6), int64(9), object(8)\n",
      "memory usage: 661.2+ KB\n"
     ]
    }
   ],
   "source": [
    "df.info()"
   ]
  },
  {
   "cell_type": "code",
   "execution_count": 8,
   "id": "2130c97d",
   "metadata": {},
   "outputs": [
    {
     "data": {
      "text/plain": [
       "np.int64(4)"
      ]
     },
     "execution_count": 8,
     "metadata": {},
     "output_type": "execute_result"
    }
   ],
   "source": [
    "df.duplicated().sum()"
   ]
  },
  {
   "cell_type": "code",
   "execution_count": 9,
   "id": "aa67b552",
   "metadata": {},
   "outputs": [],
   "source": [
    "df.drop_duplicates(inplace=True)"
   ]
  },
  {
   "cell_type": "code",
   "execution_count": 10,
   "id": "373b7827",
   "metadata": {},
   "outputs": [
    {
     "data": {
      "text/html": [
       "<div>\n",
       "<style scoped>\n",
       "    .dataframe tbody tr th:only-of-type {\n",
       "        vertical-align: middle;\n",
       "    }\n",
       "\n",
       "    .dataframe tbody tr th {\n",
       "        vertical-align: top;\n",
       "    }\n",
       "\n",
       "    .dataframe thead th {\n",
       "        text-align: right;\n",
       "    }\n",
       "</style>\n",
       "<table border=\"1\" class=\"dataframe\">\n",
       "  <thead>\n",
       "    <tr style=\"text-align: right;\">\n",
       "      <th></th>\n",
       "      <th>property_type</th>\n",
       "      <th>society</th>\n",
       "      <th>sector</th>\n",
       "      <th>price</th>\n",
       "      <th>price_per_sqft</th>\n",
       "      <th>area</th>\n",
       "      <th>areaWithType</th>\n",
       "      <th>bedRoom</th>\n",
       "      <th>bathroom</th>\n",
       "      <th>balcony</th>\n",
       "      <th>...</th>\n",
       "      <th>super_built_up_area</th>\n",
       "      <th>built_up_area</th>\n",
       "      <th>carpet_area</th>\n",
       "      <th>study room</th>\n",
       "      <th>servant room</th>\n",
       "      <th>store room</th>\n",
       "      <th>pooja room</th>\n",
       "      <th>others</th>\n",
       "      <th>furnishing_type</th>\n",
       "      <th>luxury_score</th>\n",
       "    </tr>\n",
       "  </thead>\n",
       "  <tbody>\n",
       "    <tr>\n",
       "      <th>0</th>\n",
       "      <td>house</td>\n",
       "      <td>None</td>\n",
       "      <td>sector 4</td>\n",
       "      <td>0.67</td>\n",
       "      <td>8557.0</td>\n",
       "      <td>783.0</td>\n",
       "      <td>Plot area 87(72.74 sq.m.)</td>\n",
       "      <td>3</td>\n",
       "      <td>2</td>\n",
       "      <td>1</td>\n",
       "      <td>...</td>\n",
       "      <td>NaN</td>\n",
       "      <td>783.0</td>\n",
       "      <td>NaN</td>\n",
       "      <td>0</td>\n",
       "      <td>0</td>\n",
       "      <td>0</td>\n",
       "      <td>1</td>\n",
       "      <td>1</td>\n",
       "      <td>0</td>\n",
       "      <td>19</td>\n",
       "    </tr>\n",
       "    <tr>\n",
       "      <th>1</th>\n",
       "      <td>flat</td>\n",
       "      <td>zara aavaas</td>\n",
       "      <td>sector 104</td>\n",
       "      <td>0.65</td>\n",
       "      <td>8519.0</td>\n",
       "      <td>763.0</td>\n",
       "      <td>Carpet area: 763 (70.89 sq.m.)</td>\n",
       "      <td>3</td>\n",
       "      <td>2</td>\n",
       "      <td>2</td>\n",
       "      <td>...</td>\n",
       "      <td>NaN</td>\n",
       "      <td>NaN</td>\n",
       "      <td>763.0</td>\n",
       "      <td>0</td>\n",
       "      <td>0</td>\n",
       "      <td>0</td>\n",
       "      <td>0</td>\n",
       "      <td>0</td>\n",
       "      <td>0</td>\n",
       "      <td>65</td>\n",
       "    </tr>\n",
       "    <tr>\n",
       "      <th>2</th>\n",
       "      <td>house</td>\n",
       "      <td>DLF New Town Heights 24.0 ★</td>\n",
       "      <td>sector 86</td>\n",
       "      <td>2.47</td>\n",
       "      <td>7718.0</td>\n",
       "      <td>3200.0</td>\n",
       "      <td>Plot area 3200(297.29 sq.m.)Built Up area: 280...</td>\n",
       "      <td>4</td>\n",
       "      <td>4</td>\n",
       "      <td>3+</td>\n",
       "      <td>...</td>\n",
       "      <td>NaN</td>\n",
       "      <td>2800.0</td>\n",
       "      <td>2200.0</td>\n",
       "      <td>0</td>\n",
       "      <td>1</td>\n",
       "      <td>0</td>\n",
       "      <td>1</td>\n",
       "      <td>0</td>\n",
       "      <td>2</td>\n",
       "      <td>130</td>\n",
       "    </tr>\n",
       "    <tr>\n",
       "      <th>3</th>\n",
       "      <td>flat</td>\n",
       "      <td>shree vardhman victoria</td>\n",
       "      <td>sector 70</td>\n",
       "      <td>1.65</td>\n",
       "      <td>8461.0</td>\n",
       "      <td>1950.0</td>\n",
       "      <td>Super Built up area 1950(181.16 sq.m.)Carpet a...</td>\n",
       "      <td>3</td>\n",
       "      <td>4</td>\n",
       "      <td>3</td>\n",
       "      <td>...</td>\n",
       "      <td>1950.0</td>\n",
       "      <td>NaN</td>\n",
       "      <td>1161.0</td>\n",
       "      <td>0</td>\n",
       "      <td>1</td>\n",
       "      <td>0</td>\n",
       "      <td>0</td>\n",
       "      <td>1</td>\n",
       "      <td>2</td>\n",
       "      <td>49</td>\n",
       "    </tr>\n",
       "    <tr>\n",
       "      <th>4</th>\n",
       "      <td>flat</td>\n",
       "      <td>central park resort belgravia residences</td>\n",
       "      <td>sector 48</td>\n",
       "      <td>6.25</td>\n",
       "      <td>24300.0</td>\n",
       "      <td>2572.0</td>\n",
       "      <td>Carpet area: 2880 (267.56 sq.m.)</td>\n",
       "      <td>3</td>\n",
       "      <td>5</td>\n",
       "      <td>3+</td>\n",
       "      <td>...</td>\n",
       "      <td>NaN</td>\n",
       "      <td>NaN</td>\n",
       "      <td>2880.0</td>\n",
       "      <td>0</td>\n",
       "      <td>1</td>\n",
       "      <td>0</td>\n",
       "      <td>0</td>\n",
       "      <td>0</td>\n",
       "      <td>2</td>\n",
       "      <td>49</td>\n",
       "    </tr>\n",
       "  </tbody>\n",
       "</table>\n",
       "<p>5 rows × 23 columns</p>\n",
       "</div>"
      ],
      "text/plain": [
       "  property_type                                   society      sector  price  \\\n",
       "0         house                                      None    sector 4   0.67   \n",
       "1          flat                               zara aavaas  sector 104   0.65   \n",
       "2         house               DLF New Town Heights 24.0 ★   sector 86   2.47   \n",
       "3          flat                   shree vardhman victoria   sector 70   1.65   \n",
       "4          flat  central park resort belgravia residences   sector 48   6.25   \n",
       "\n",
       "   price_per_sqft    area                                       areaWithType  \\\n",
       "0          8557.0   783.0                          Plot area 87(72.74 sq.m.)   \n",
       "1          8519.0   763.0                     Carpet area: 763 (70.89 sq.m.)   \n",
       "2          7718.0  3200.0  Plot area 3200(297.29 sq.m.)Built Up area: 280...   \n",
       "3          8461.0  1950.0  Super Built up area 1950(181.16 sq.m.)Carpet a...   \n",
       "4         24300.0  2572.0                   Carpet area: 2880 (267.56 sq.m.)   \n",
       "\n",
       "   bedRoom  bathroom balcony  ... super_built_up_area built_up_area  \\\n",
       "0        3         2       1  ...                 NaN         783.0   \n",
       "1        3         2       2  ...                 NaN           NaN   \n",
       "2        4         4      3+  ...                 NaN        2800.0   \n",
       "3        3         4       3  ...              1950.0           NaN   \n",
       "4        3         5      3+  ...                 NaN           NaN   \n",
       "\n",
       "  carpet_area  study room  servant room  store room  pooja room  others  \\\n",
       "0         NaN           0             0           0           1       1   \n",
       "1       763.0           0             0           0           0       0   \n",
       "2      2200.0           0             1           0           1       0   \n",
       "3      1161.0           0             1           0           0       1   \n",
       "4      2880.0           0             1           0           0       0   \n",
       "\n",
       "   furnishing_type  luxury_score  \n",
       "0                0            19  \n",
       "1                0            65  \n",
       "2                2           130  \n",
       "3                2            49  \n",
       "4                2            49  \n",
       "\n",
       "[5 rows x 23 columns]"
      ]
     },
     "execution_count": 10,
     "metadata": {},
     "output_type": "execute_result"
    }
   ],
   "source": [
    "df.head()"
   ]
  },
  {
   "cell_type": "code",
   "execution_count": 22,
   "id": "aeed4d49",
   "metadata": {},
   "outputs": [
    {
     "data": {
      "text/plain": [
       "(3675, 23)"
      ]
     },
     "execution_count": 22,
     "metadata": {},
     "output_type": "execute_result"
    }
   ],
   "source": [
    "df.shape"
   ]
  },
  {
   "cell_type": "markdown",
   "id": "07c1ecf6",
   "metadata": {},
   "source": [
    "### property_type"
   ]
  },
  {
   "cell_type": "code",
   "execution_count": 11,
   "id": "a384eaee",
   "metadata": {},
   "outputs": [
    {
     "data": {
      "text/plain": [
       "<Axes: xlabel='property_type'>"
      ]
     },
     "execution_count": 11,
     "metadata": {},
     "output_type": "execute_result"
    },
    {
     "data": {
      "image/png": "[encoded data removed]",
      "text/plain": [
       "<Figure size 640x480 with 1 Axes>"
      ]
     },
     "metadata": {},
     "output_type": "display_data"
    }
   ],
   "source": [
    "df['property_type'].value_counts().plot(kind='bar',)"
   ]
  },
  {
   "cell_type": "markdown",
   "id": "764d3fcf",
   "metadata": {},
   "source": [
    "Observations\n",
    "- Flats are in majority(75 percent) and there are less number of houses(~25 percent)\n",
    "- No missing values"
   ]
  },
  {
   "cell_type": "markdown",
   "id": "ad98a581",
   "metadata": {},
   "source": [
    "### society"
   ]
  },
  {
   "cell_type": "code",
   "execution_count": 12,
   "id": "24260508",
   "metadata": {},
   "outputs": [
    {
     "data": {
      "text/plain": [
       "(726,)"
      ]
     },
     "execution_count": 12,
     "metadata": {},
     "output_type": "execute_result"
    }
   ],
   "source": [
    "df['society'].value_counts().shape"
   ]
  },
  {
   "cell_type": "code",
   "execution_count": null,
   "id": "77b46a55",
   "metadata": {},
   "outputs": [
    {
     "data": {
      "text/plain": [
       "np.int64(486)"
      ]
     },
     "execution_count": 21,
     "metadata": {},
     "output_type": "execute_result"
    }
   ],
   "source": [
    "# check for missing values in 'society' column\n",
    "df['society'].isnull().sum()"
   ]
  },
  {
   "cell_type": "code",
   "execution_count": 23,
   "id": "b028a084",
   "metadata": {},
   "outputs": [],
   "source": [
    "# Fill missing values in 'society' with 'independent' as there is no name of society\n",
    "df['society'] = df['society'].fillna('independent')"
   ]
  },
  {
   "cell_type": "code",
   "execution_count": 24,
   "id": "fd945e26",
   "metadata": {},
   "outputs": [
    {
     "data": {
      "text/plain": [
       "society\n",
       "independent                               486\n",
       "tulip violet                               75\n",
       "ss the leaf                                73\n",
       "shapoorji pallonji joyville gurugram       42\n",
       "dlf new town heights                       38\n",
       "                                         ... \n",
       "shree kirpalu gi sector 52                  1\n",
       "denso haryana housing society               1\n",
       "ace palm floors                             1\n",
       "supertech basera                            1\n",
       "m m residency, krishna colony, gurgaon      1\n",
       "Name: count, Length: 727, dtype: int64"
      ]
     },
     "execution_count": 24,
     "metadata": {},
     "output_type": "execute_result"
    }
   ],
   "source": [
    "df['society'].value_counts()"
   ]
  },
  {
   "cell_type": "code",
   "execution_count": 25,
   "id": "d6a24839",
   "metadata": {},
   "outputs": [
    {
     "data": {
      "text/plain": [
       "society\n",
       "tulip violet                            0.023518\n",
       "ss the leaf                             0.046410\n",
       "shapoorji pallonji joyville gurugram    0.059580\n",
       "dlf new town heights                    0.071496\n",
       "shree vardhman victoria                 0.082157\n",
       "                                          ...   \n",
       "the close north                         0.484478\n",
       "dlf the primus                          0.488554\n",
       "umang winter hills                      0.492631\n",
       "Unitech Uniworld Resorts                0.496394\n",
       "mvn athens                              0.500157\n",
       "Name: proportion, Length: 75, dtype: float64"
      ]
     },
     "execution_count": 25,
     "metadata": {},
     "output_type": "execute_result"
    }
   ],
   "source": [
    "# Filter out 'independent' society and calculate cumulative distribution and select top 75 societies\n",
    "df[df['society'] != 'independent']['society'].value_counts(normalize=True).cumsum().head(75)"
   ]
  },
  {
   "cell_type": "markdown",
   "id": "5773b059",
   "metadata": {},
   "source": [
    "### \n",
    "Observation\n",
    "- Out of 726 total societies, 50% of flats belong to the top 75 societies.  \n",
    "- This indicates that a small number of societies account for a large portion of the listings."
   ]
  },
  {
   "cell_type": "code",
   "execution_count": 30,
   "id": "aacfc3ee",
   "metadata": {},
   "outputs": [
    {
     "data": {
      "text/plain": [
       "{'Very High (>100)': np.int64(1),\n",
       " 'High (50-100)': np.int64(2),\n",
       " 'Average (10-49)': np.int64(92),\n",
       " 'Low (2-9)': np.int64(274),\n",
       " 'Very Low (1)': np.int64(358)}"
      ]
     },
     "execution_count": 30,
     "metadata": {},
     "output_type": "execute_result"
    }
   ],
   "source": [
    "society_counts = df['society'].value_counts()\n",
    "\n",
    "# Frequency distribution for societies\n",
    "frequency_bins = {\n",
    "    \"Very High (>100)\": (society_counts > 100).sum(),\n",
    "    \"High (50-100)\": ((society_counts >= 50) & (society_counts <= 100)).sum(),\n",
    "    \"Average (10-49)\": ((society_counts >= 10) & (society_counts < 50)).sum(),\n",
    "    \"Low (2-9)\": ((society_counts > 1) & (society_counts < 10)).sum(),\n",
    "    \"Very Low (1)\": (society_counts == 1).sum()\n",
    "}\n",
    "frequency_bins"
   ]
  },
  {
   "cell_type": "code",
   "execution_count": 31,
   "id": "4de739b5",
   "metadata": {},
   "outputs": [
    {
     "data": {
      "text/plain": [
       "<Axes: xlabel='society'>"
      ]
     },
     "execution_count": 31,
     "metadata": {},
     "output_type": "execute_result"
    },
    {
     "data": {
      "image/png": "[encoded data removed]",
      "text/plain": [
       "<Figure size 640x480 with 1 Axes>"
      ]
     },
     "metadata": {},
     "output_type": "display_data"
    }
   ],
   "source": [
    "# top 10 socities\n",
    "df[df['society'] != 'independent']['society'].value_counts().head(10).plot(kind='bar')"
   ]
  },
  {
   "cell_type": "markdown",
   "id": "ea514b5c",
   "metadata": {},
   "source": [
    "Observations\n",
    "- Around 13% properties comes under independent tag.\n",
    "- There are 675 societies.\n",
    "- The top 75 societies have 50 percent of the preperties and the rest 50 percent of the properties come under the remaining 600 societies\n",
    "    - Very High (>100): Only 1 society has more than 100 listings.\n",
    "    - High (50-100): 2 societies have between 50 to 100 listings.\n",
    "    - Average (10-49): 92 societies fall in this range with 10 to 49 listings each.\n",
    "    - Low (2-9): 274 societies have between 2 to 9 listings.\n",
    "    - Very Low (1): A significant number, 358 societies, have only 1 listing."
   ]
  },
  {
   "cell_type": "markdown",
   "id": "8278fa6a",
   "metadata": {},
   "source": [
    "## sector"
   ]
  },
  {
   "cell_type": "code",
   "execution_count": 33,
   "id": "e6acd029",
   "metadata": {},
   "outputs": [
    {
     "data": {
      "text/plain": [
       "(115,)"
      ]
     },
     "execution_count": 33,
     "metadata": {},
     "output_type": "execute_result"
    }
   ],
   "source": [
    "# unique sectors\n",
    "df['sector'].value_counts().shape"
   ]
  },
  {
   "cell_type": "code",
   "execution_count": 34,
   "id": "c3f94e29",
   "metadata": {},
   "outputs": [
    {
     "data": {
      "text/plain": [
       "<Axes: xlabel='sector'>"
      ]
     },
     "execution_count": 34,
     "metadata": {},
     "output_type": "execute_result"
    },
    {
     "data": {
      "image/png": "[encoded data removed]",
      "text/plain": [
       "<Figure size 640x480 with 1 Axes>"
      ]
     },
     "metadata": {},
     "output_type": "display_data"
    }
   ],
   "source": [
    "# top 10 sectors\n",
    "df['sector'].value_counts().head(10).plot(kind='bar')"
   ]
  },
  {
   "cell_type": "code",
   "execution_count": 35,
   "id": "20a3907a",
   "metadata": {},
   "outputs": [
    {
     "data": {
      "text/plain": [
       "{'Very High (>100)': np.int64(3),\n",
       " 'High (50-100)': np.int64(25),\n",
       " 'Average (10-49)': np.int64(62),\n",
       " 'Low (2-9)': np.int64(24),\n",
       " 'Very Low (1)': np.int64(1)}"
      ]
     },
     "execution_count": 35,
     "metadata": {},
     "output_type": "execute_result"
    }
   ],
   "source": [
    "# Frequency distribution for sectors\n",
    "sector_counts = df['sector'].value_counts()\n",
    "\n",
    "sector_frequency_bins = {\n",
    "    \"Very High (>100)\": (sector_counts > 100).sum(),\n",
    "    \"High (50-100)\": ((sector_counts >= 50) & (sector_counts <= 100)).sum(),\n",
    "    \"Average (10-49)\": ((sector_counts >= 10) & (sector_counts < 50)).sum(),\n",
    "    \"Low (2-9)\": ((sector_counts > 1) & (sector_counts < 10)).sum(),\n",
    "    \"Very Low (1)\": (sector_counts == 1).sum()\n",
    "}\n",
    "\n",
    "sector_frequency_bins"
   ]
  },
  {
   "cell_type": "markdown",
   "id": "56d93a50",
   "metadata": {},
   "source": [
    "### Observations\n",
    "- There are a total of 104 unique sectors in the dataset.\n",
    "- Frequency distribution of sectors:\n",
    "    - Very High (>100): 3 sectors have more than 100 listings.\n",
    "    - High (50-100): 25 sectors have between 50 to 100 listings.\n",
    "    - Average (10-49): A majority, 62 sectors, fall in this range with 10 to 49 listings each.\n",
    "    - Low (2-9): 24 sectors have between 2 to 9 listings.\n",
    "    - Very Low (1): Interestingly, there are 1 sector with only 1 listing.\n"
   ]
  },
  {
   "cell_type": "markdown",
   "id": "50f59329",
   "metadata": {},
   "source": [
    "### Price"
   ]
  },
  {
   "cell_type": "code",
   "execution_count": 38,
   "id": "55e0241a",
   "metadata": {},
   "outputs": [
    {
     "data": {
      "text/plain": [
       "np.int64(16)"
      ]
     },
     "execution_count": 38,
     "metadata": {},
     "output_type": "execute_result"
    }
   ],
   "source": [
    "df['price'].isnull().sum()"
   ]
  },
  {
   "cell_type": "code",
   "execution_count": 39,
   "id": "edf957c3",
   "metadata": {},
   "outputs": [
    {
     "data": {
      "text/plain": [
       "count    3659.000000\n",
       "mean        2.534157\n",
       "std         2.980877\n",
       "min         0.070000\n",
       "25%         0.950000\n",
       "50%         1.520000\n",
       "75%         2.750000\n",
       "max        31.500000\n",
       "Name: price, dtype: float64"
      ]
     },
     "execution_count": 39,
     "metadata": {},
     "output_type": "execute_result"
    }
   ],
   "source": [
    "df['price'].describe()"
   ]
  },
  {
   "cell_type": "code",
   "execution_count": 44,
   "id": "21fa537d",
   "metadata": {},
   "outputs": [
    {
     "data": {
      "text/plain": [
       "<Axes: xlabel='price', ylabel='Count'>"
      ]
     },
     "execution_count": 44,
     "metadata": {},
     "output_type": "execute_result"
    },
    {
     "data": {
      "image/png": "[encoded data removed]",
      "text/plain": [
       "<Figure size 640x480 with 1 Axes>"
      ]
     },
     "metadata": {},
     "output_type": "display_data"
    }
   ],
   "source": [
    "sns.histplot(df['price'], kde=True, bins=50)"
   ]
  },
  {
   "cell_type": "code",
   "execution_count": 55,
   "id": "71357637",
   "metadata": {},
   "outputs": [
    {
     "data": {
      "image/png": "[encoded data removed]",
      "text/plain": [
       "<Figure size 1200x400 with 1 Axes>"
      ]
     },
     "metadata": {},
     "output_type": "display_data"
    }
   ],
   "source": [
    "plt.figure(figsize=(12, 4))\n",
    "sns.boxplot(x=df['price'], color='green')\n",
    "plt.grid()\n",
    "plt.title(\"Price Distribution\")\n",
    "plt.xlabel(\"Price\")\n",
    "plt.show()"
   ]
  },
  {
   "cell_type": "markdown",
   "id": "87cea694",
   "metadata": {},
   "source": [
    "- Descriptive Statistics:\n",
    "\n",
    "    - Count: There are 3,660 non-missing price entries.\n",
    "    - Mean Price: The average price is approximately 2.53 crores.\n",
    "    - Median Price: The median (or 50th percentile) price is 1.52 crores.\n",
    "    - Standard Deviation: The prices have a standard deviation of 2.98, indicating variability in the prices.\n",
    "    - Range: Prices range from a minimum of 0.07 crores to a maximum of 31.5 crores.\n",
    "    - IQR: The interquartile range (difference between 75th and 25th percentile) is from 0.95 crores to 2.75 crores.\n",
    "\n",
    "\n",
    "- Visualizations:\n",
    "\n",
    "    - Distribution: The histogram indicates that most properties are priced in the lower range (below 5 crores), with a few properties going beyond 10 crores.\n",
    "    - Box Plot: The box plot showcases the spread of the data and potential outliers. Properties priced above approximately 10 crores might be considered outliers as they lie beyond the upper whisker of the box plot.\n",
    " \n",
    "\n",
    "- Missing Values: There are 17 missing values in the price column."
   ]
  },
  {
   "cell_type": "code",
   "execution_count": 56,
   "id": "41afea8d",
   "metadata": {},
   "outputs": [
    {
     "name": "stdout",
     "output_type": "stream",
     "text": [
      "3.278797986822502 14.929955531610577\n"
     ]
    }
   ],
   "source": [
    "# Skewness and Kurtosis\n",
    "skewness = df['price'].skew()\n",
    "kurtosis = df['price'].kurt()\n",
    "\n",
    "print(skewness,kurtosis)"
   ]
  },
  {
   "cell_type": "markdown",
   "id": "00e405b8",
   "metadata": {},
   "source": [
    "**Skewness**: The price distribution has a skewness of approximately 3.28, indicating a positive skew. This means that the distribution tail is skewed to the right, which aligns with our observation from the histogram where most properties have prices on the lower end with a few high-priced properties.\n",
    "\n",
    "**Kurtosis**: The kurtosis value is approximately 14.93. A kurtosis value greater than 3 indicates a distribution with heavier tails and more outliers compared to a normal distribution."
   ]
  },
  {
   "cell_type": "code",
   "execution_count": 57,
   "id": "2f931bf2",
   "metadata": {},
   "outputs": [
    {
     "data": {
      "text/plain": [
       "0.01     0.250\n",
       "0.05     0.370\n",
       "0.95     8.500\n",
       "0.99    15.268\n",
       "Name: price, dtype: float64"
      ]
     },
     "execution_count": 57,
     "metadata": {},
     "output_type": "execute_result"
    }
   ],
   "source": [
    "# Quantile Analysis\n",
    "quantiles = df['price'].quantile([0.01, 0.05, 0.95, 0.99])\n",
    "\n",
    "quantiles"
   ]
  },
  {
   "cell_type": "markdown",
   "id": "091c80e1",
   "metadata": {},
   "source": [
    "Quantile Analysis:\n",
    "\n",
    "- 1% Quantile: Only 1% of properties are priced below 0.25 crores.\n",
    "- 5% Quantile: 5% of properties are priced below 0.37 crores.\n",
    "- 95% Quantile: 95% of properties are priced below 8.5 crores.\n",
    "- 99% Quantile: 99% of properties are priced below 15.26 crores, indicating that very few properties are priced above this value."
   ]
  },
  {
   "cell_type": "code",
   "execution_count": 58,
   "id": "9599c008",
   "metadata": {},
   "outputs": [
    {
     "data": {
      "text/plain": [
       "np.float64(1.8)"
      ]
     },
     "execution_count": 58,
     "metadata": {},
     "output_type": "execute_result"
    }
   ],
   "source": [
    "# Identify potential outliers using IQR method\n",
    "Q1 = df['price'].describe()['25%']\n",
    "Q3 = df['price'].describe()['75%']\n",
    "IQR = Q3 - Q1\n",
    "\n",
    "IQR"
   ]
  },
  {
   "cell_type": "code",
   "execution_count": 59,
   "id": "53e331fc",
   "metadata": {},
   "outputs": [
    {
     "name": "stdout",
     "output_type": "stream",
     "text": [
      "-1.7500000000000002 5.45\n"
     ]
    }
   ],
   "source": [
    "lower_bound = Q1 - 1.5 * IQR\n",
    "upper_bound = Q3 + 1.5 * IQR\n",
    "\n",
    "print(lower_bound, upper_bound)"
   ]
  },
  {
   "cell_type": "code",
   "execution_count": 60,
   "id": "0ada38ed",
   "metadata": {},
   "outputs": [
    {
     "data": {
      "text/plain": [
       "(425, 23)"
      ]
     },
     "execution_count": 60,
     "metadata": {},
     "output_type": "execute_result"
    }
   ],
   "source": [
    "outliers = df[(df['price'] < lower_bound) | (df['price'] > upper_bound)]\n",
    "outliers.shape"
   ]
  },
  {
   "cell_type": "code",
   "execution_count": 61,
   "id": "cf66954a",
   "metadata": {},
   "outputs": [
    {
     "data": {
      "text/plain": [
       "count    425.000000\n",
       "mean       9.235624\n",
       "std        4.065259\n",
       "min        5.460000\n",
       "25%        6.460000\n",
       "50%        8.000000\n",
       "75%       10.750000\n",
       "max       31.500000\n",
       "Name: price, dtype: float64"
      ]
     },
     "execution_count": 61,
     "metadata": {},
     "output_type": "execute_result"
    }
   ],
   "source": [
    "outliers['price'].describe()"
   ]
  },
  {
   "cell_type": "markdown",
   "id": "77cebb50",
   "metadata": {},
   "source": [
    "Outliers Analysis (using IQR method):\n",
    "\n",
    "- Based on the IQR method, there are 425 properties considered as outliers.\n",
    "- These outliers have an average price of approximately 9.24 crores.\n",
    "- The range for these outliers is from 5.46 crores to 31.5 crores."
   ]
  },
  {
   "cell_type": "code",
   "execution_count": 62,
   "id": "e4342353",
   "metadata": {},
   "outputs": [
    {
     "data": {
      "text/plain": [
       "<Axes: xlabel='price'>"
      ]
     },
     "execution_count": 62,
     "metadata": {},
     "output_type": "execute_result"
    },
    {
     "data": {
      "image/png": "[encoded data removed]",
      "text/plain": [
       "<Figure size 640x480 with 1 Axes>"
      ]
     },
     "metadata": {},
     "output_type": "display_data"
    }
   ],
   "source": [
    "# price binning\n",
    "bins = [0, 1, 2, 3, 5, 10, 20, 50]\n",
    "bin_labels = [\"0-1\", \"1-2\", \"2-3\", \"3-5\", \"5-10\", \"10-20\", \"20-50\"]\n",
    "pd.cut(df['price'], bins=bins, labels=bin_labels, right=False).value_counts().sort_index().plot(kind='bar')"
   ]
  },
  {
   "cell_type": "markdown",
   "id": "3992344b",
   "metadata": {},
   "source": [
    "- The majority of properties are priced in the \"1-2 crores\" and \"2-3 crores\" ranges.\n",
    "- There's a significant drop in the number of properties priced above \"5 crores.\""
   ]
  },
  {
   "cell_type": "code",
   "execution_count": 63,
   "id": "95cdada4",
   "metadata": {},
   "outputs": [
    {
     "data": {
      "image/png": "[encoded data removed]",
      "text/plain": [
       "<Figure size 640x480 with 1 Axes>"
      ]
     },
     "metadata": {},
     "output_type": "display_data"
    }
   ],
   "source": [
    "# ecdf plot\n",
    "ecdf = df['price'].value_counts().sort_index().cumsum() / len(df['price'])\n",
    "plt.plot(ecdf.index, ecdf, marker='.', linestyle='none')\n",
    "plt.grid()"
   ]
  },
  {
   "cell_type": "code",
   "execution_count": null,
   "id": "1731e488",
   "metadata": {},
   "outputs": [],
   "source": []
  }
 ],
 "metadata": {
  "kernelspec": {
   "display_name": "Python 3",
   "language": "python",
   "name": "python3"
  },
  "language_info": {
   "codemirror_mode": {
    "name": "ipython",
    "version": 3
   },
   "file_extension": ".py",
   "mimetype": "text/x-python",
   "name": "python",
   "nbconvert_exporter": "python",
   "pygments_lexer": "ipython3",
   "version": "3.13.5"
  }
 },
 "nbformat": 4,
 "nbformat_minor": 5
}

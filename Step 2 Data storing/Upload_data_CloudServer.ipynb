{
 "cells": [
  {
   "cell_type": "code",
   "execution_count": 1,
   "id": "0d28e1a0",
   "metadata": {},
   "outputs": [
    {
     "name": "stdout",
     "output_type": "stream",
     "text": [
      "Requirement already satisfied: pandas in c:\\users\\wasia\\appdata\\roaming\\python\\python313\\site-packages (from -r requirements.txt (line 1)) (2.3.1)\n",
      "Requirement already satisfied: sqlalchemy in c:\\users\\wasia\\desktop\\data science\\data science property price prediction project\\env\\lib\\site-packages (from -r requirements.txt (line 2)) (2.0.41)\n",
      "Requirement already satisfied: pymysql in c:\\users\\wasia\\desktop\\data science\\data science property price prediction project\\env\\lib\\site-packages (from -r requirements.txt (line 3)) (1.1.1)\n",
      "Requirement already satisfied: pyodbc in c:\\users\\wasia\\desktop\\data science\\data science property price prediction project\\env\\lib\\site-packages (from -r requirements.txt (line 4)) (5.2.0)\n",
      "Requirement already satisfied: python-dotenv in c:\\users\\wasia\\desktop\\data science\\data science property price prediction project\\env\\lib\\site-packages (from -r requirements.txt (line 5)) (1.1.1)\n",
      "Requirement already satisfied: numpy>=1.26.0 in c:\\users\\wasia\\appdata\\roaming\\python\\python313\\site-packages (from pandas->-r requirements.txt (line 1)) (2.3.1)\n",
      "Requirement already satisfied: python-dateutil>=2.8.2 in c:\\users\\wasia\\appdata\\roaming\\python\\python313\\site-packages (from pandas->-r requirements.txt (line 1)) (2.9.0.post0)\n",
      "Requirement already satisfied: pytz>=2020.1 in c:\\users\\wasia\\appdata\\roaming\\python\\python313\\site-packages (from pandas->-r requirements.txt (line 1)) (2025.2)\n",
      "Requirement already satisfied: tzdata>=2022.7 in c:\\users\\wasia\\appdata\\roaming\\python\\python313\\site-packages (from pandas->-r requirements.txt (line 1)) (2025.2)\n",
      "Requirement already satisfied: greenlet>=1 in c:\\users\\wasia\\desktop\\data science\\data science property price prediction project\\env\\lib\\site-packages (from sqlalchemy->-r requirements.txt (line 2)) (3.2.3)\n",
      "Requirement already satisfied: typing-extensions>=4.6.0 in c:\\users\\wasia\\appdata\\roaming\\python\\python313\\site-packages (from sqlalchemy->-r requirements.txt (line 2)) (4.14.1)\n",
      "Requirement already satisfied: six>=1.5 in c:\\users\\wasia\\appdata\\roaming\\python\\python313\\site-packages (from python-dateutil>=2.8.2->pandas->-r requirements.txt (line 1)) (1.17.0)\n",
      "Note: you may need to restart the kernel to use updated packages.\n"
     ]
    }
   ],
   "source": [
    "pip install -r requirements.txt"
   ]
  },
  {
   "cell_type": "code",
   "execution_count": 2,
   "id": "9849373b",
   "metadata": {},
   "outputs": [],
   "source": [
    "import os\n",
    "import pandas as pd\n",
    "from sqlalchemy import create_engine\n",
    "from dotenv import load_dotenv\n",
    "import pymysql\n",
    "import pyodbc"
   ]
  },
  {
   "cell_type": "code",
   "execution_count": null,
   "id": "d878d477",
   "metadata": {},
   "outputs": [
    {
     "name": "stdout",
     "output_type": "stream",
     "text": [
      "Requirement already satisfied: openpyxl in c:\\users\\wasia\\desktop\\data science\\data science property price prediction project\\env\\lib\\site-packages (3.1.5)\n",
      "Requirement already satisfied: et-xmlfile in c:\\users\\wasia\\desktop\\data science\\data science property price prediction project\\env\\lib\\site-packages (from openpyxl) (2.0.0)\n",
      "Note: you may need to restart the kernel to use updated packages.\n"
     ]
    }
   ],
   "source": [
    "# pip install openpyxl"
   ]
  },
  {
   "cell_type": "code",
   "execution_count": 3,
   "id": "7de581a3",
   "metadata": {},
   "outputs": [
    {
     "name": "stdout",
     "output_type": "stream",
     "text": [
      "True\n"
     ]
    }
   ],
   "source": [
    "# Load .env variables\n",
    "from dotenv import load_dotenv\n",
    "print(load_dotenv())"
   ]
  },
  {
   "cell_type": "code",
   "execution_count": 4,
   "id": "de1cacb6",
   "metadata": {},
   "outputs": [],
   "source": [
    "# Create MySQL connection (AWS RDS)\n",
    "mysql_engine = create_engine(\n",
    "    f\"mysql+pymysql://{os.getenv('MYSQL_USER')}:{os.getenv('MYSQL_PASS')}@{os.getenv('MYSQL_HOST')}/{os.getenv('MYSQL_DB')}\"\n",
    ")\n",
    "\n",
    "# Create MSSQL connection\n",
    "mssql_engine = create_engine(\n",
    "    f\"mssql+pyodbc://{os.getenv('MSSQL_USER')}:{os.getenv('MSSQL_PASS')}@{os.getenv('MSSQL_HOST')}/{os.getenv('MSSQL_DB')}?driver={os.getenv('MSSQL_DRIVER')}&Encrypt=yes&TrustServerCertificate=no\"\n",
    ")"
   ]
  },
  {
   "cell_type": "code",
   "execution_count": null,
   "id": "5a338d3a",
   "metadata": {},
   "outputs": [
    {
     "data": {
      "text/plain": [
       "3028"
      ]
     },
     "execution_count": 11,
     "metadata": {},
     "output_type": "execute_result"
    }
   ],
   "source": [
    "# Upload flat data to MySQL\n",
    "pd.read_excel(\n",
    "    r'C:\\Users\\wasia\\Desktop\\Data Science\\Data science Property Price Prediction Project\\Data\\flats.xlsx', sheet_name='flats').to_sql(\n",
    "    'flats',\n",
    "    con=mysql_engine,  \n",
    "    if_exists='replace',\n",
    "    index=False)"
   ]
  },
  {
   "cell_type": "code",
   "execution_count": 6,
   "id": "a8064470",
   "metadata": {},
   "outputs": [
    {
     "data": {
      "text/plain": [
       "1095"
      ]
     },
     "execution_count": 6,
     "metadata": {},
     "output_type": "execute_result"
    }
   ],
   "source": [
    "# Upload independent house data to MySQL\n",
    "pd.read_excel(\n",
    "    r'C:\\Users\\wasia\\Desktop\\Data Science\\Data science Property Price Prediction Project\\Data\\independent-house.xlsx').to_sql(\n",
    "    'independent-house',\n",
    "    con=mysql_engine,  \n",
    "    if_exists='replace',\n",
    "    index=False)"
   ]
  },
  {
   "cell_type": "code",
   "execution_count": null,
   "id": "afaa7332",
   "metadata": {},
   "outputs": [
    {
     "data": {
      "text/plain": [
       "12"
      ]
     },
     "execution_count": 14,
     "metadata": {},
     "output_type": "execute_result"
    }
   ],
   "source": [
    "# Upload flats data to MSSQL\n",
    "pd.read_excel(\n",
    "    r'C:\\Users\\wasia\\Desktop\\Data Science\\Data science Property Price Prediction Project\\Data\\flats.xlsx').to_sql(\n",
    "    'flats',\n",
    "    con=mssql_engine,  \n",
    "    if_exists='replace',\n",
    "    index=False)"
   ]
  },
  {
   "cell_type": "code",
   "execution_count": null,
   "id": "e748bedc",
   "metadata": {},
   "outputs": [
    {
     "data": {
      "text/plain": [
       "6"
      ]
     },
     "execution_count": 15,
     "metadata": {},
     "output_type": "execute_result"
    }
   ],
   "source": [
    "# Upload independent house data to MSSQL\n",
    "pd.read_excel(\n",
    "    r'C:\\Users\\wasia\\Desktop\\Data Science\\Data science Property Price Prediction Project\\Data\\independent-house.xlsx').to_sql(\n",
    "    'independent-house',\n",
    "    con=mssql_engine,  \n",
    "    if_exists='replace',\n",
    "    index=False)"
   ]
  },
  {
   "cell_type": "code",
   "execution_count": 16,
   "id": "1c0022d0",
   "metadata": {},
   "outputs": [
    {
     "data": {
      "text/html": [
       "<div>\n",
       "<style scoped>\n",
       "    .dataframe tbody tr th:only-of-type {\n",
       "        vertical-align: middle;\n",
       "    }\n",
       "\n",
       "    .dataframe tbody tr th {\n",
       "        vertical-align: top;\n",
       "    }\n",
       "\n",
       "    .dataframe thead th {\n",
       "        text-align: right;\n",
       "    }\n",
       "</style>\n",
       "<table border=\"1\" class=\"dataframe\">\n",
       "  <thead>\n",
       "    <tr style=\"text-align: right;\">\n",
       "      <th></th>\n",
       "      <th>property_name</th>\n",
       "      <th>link</th>\n",
       "      <th>society</th>\n",
       "      <th>price</th>\n",
       "      <th>area</th>\n",
       "      <th>areaWithType</th>\n",
       "      <th>bedRoom</th>\n",
       "      <th>bathroom</th>\n",
       "      <th>balcony</th>\n",
       "      <th>additionalRoom</th>\n",
       "      <th>address</th>\n",
       "      <th>floorNum</th>\n",
       "      <th>facing</th>\n",
       "      <th>agePossession</th>\n",
       "      <th>nearbyLocations</th>\n",
       "      <th>description</th>\n",
       "      <th>furnishDetails</th>\n",
       "      <th>features</th>\n",
       "      <th>rating</th>\n",
       "      <th>property_id</th>\n",
       "    </tr>\n",
       "  </thead>\n",
       "  <tbody>\n",
       "    <tr>\n",
       "      <th>0</th>\n",
       "      <td>2 BHK Flat in Krishna Colony</td>\n",
       "      <td>https://www.99acres.com/2-bhk-bedroom-apartmen...</td>\n",
       "      <td>maa bhagwati residency</td>\n",
       "      <td>45 Lac</td>\n",
       "      <td>? 5,000/sq.ft.</td>\n",
       "      <td>Carpet area: 900 (83.61 sq.m.)</td>\n",
       "      <td>2 Bedrooms</td>\n",
       "      <td>2 Bathrooms</td>\n",
       "      <td>1 Balcony</td>\n",
       "      <td>None</td>\n",
       "      <td>Krishna Colony, Gurgaon, Haryana</td>\n",
       "      <td>4th   of 4 Floors</td>\n",
       "      <td>West</td>\n",
       "      <td>1 to 5 Year Old</td>\n",
       "      <td>['Chintapurni Mandir', 'State bank ATM', 'Pear...</td>\n",
       "      <td>So with lift.Maa bhagwati residency is one of ...</td>\n",
       "      <td>['3 Fan', '4 Light', '1 Wardrobe', 'No AC', 'N...</td>\n",
       "      <td>['Feng Shui / Vaastu Compliant', 'Security / F...</td>\n",
       "      <td>['Environment4 out of 5', 'Safety4 out of 5', ...</td>\n",
       "      <td>C68850746</td>\n",
       "    </tr>\n",
       "    <tr>\n",
       "      <th>1</th>\n",
       "      <td>2 BHK Flat in Ashok Vihar</td>\n",
       "      <td>https://www.99acres.com/2-bhk-bedroom-apartmen...</td>\n",
       "      <td>Apna Enclave</td>\n",
       "      <td>50 Lac</td>\n",
       "      <td>? 7,692/sq.ft.</td>\n",
       "      <td>Carpet area: 650 (60.39 sq.m.)</td>\n",
       "      <td>2 Bedrooms</td>\n",
       "      <td>2 Bathrooms</td>\n",
       "      <td>1 Balcony</td>\n",
       "      <td>None</td>\n",
       "      <td>46b, Ashok Vihar, Gurgaon, Haryana</td>\n",
       "      <td>1st   of 3 Floors</td>\n",
       "      <td>West</td>\n",
       "      <td>10+ Year Old</td>\n",
       "      <td>['Chintapurni Mandir', 'Sheetla Mata Mandir', ...</td>\n",
       "      <td>Property situated on main road, railway statio...</td>\n",
       "      <td>['3 Wardrobe', '4 Fan', '1 Exhaust Fan', '1 Ge...</td>\n",
       "      <td>['Security / Fire Alarm', 'Maintenance Staff',...</td>\n",
       "      <td>['Environment4 out of 5', 'Safety4 out of 5', ...</td>\n",
       "      <td>H68850564</td>\n",
       "    </tr>\n",
       "    <tr>\n",
       "      <th>2</th>\n",
       "      <td>2 BHK Flat in Sohna</td>\n",
       "      <td>https://www.99acres.com/2-bhk-bedroom-apartmen...</td>\n",
       "      <td>Tulsiani Easy in Homes</td>\n",
       "      <td>40 Lac</td>\n",
       "      <td>? 6,722/sq.ft.</td>\n",
       "      <td>Carpet area: 595 (55.28 sq.m.)</td>\n",
       "      <td>2 Bedrooms</td>\n",
       "      <td>2 Bathrooms</td>\n",
       "      <td>3 Balconies</td>\n",
       "      <td>None</td>\n",
       "      <td>Sohna, Gurgaon, Haryana</td>\n",
       "      <td>12nd   of 14 Floors</td>\n",
       "      <td>None</td>\n",
       "      <td>0 to 1 Year Old</td>\n",
       "      <td>['Huda City Metro', 'Golf Course extn road', '...</td>\n",
       "      <td>This property is 15 km away from badshapur, gu...</td>\n",
       "      <td>None</td>\n",
       "      <td>['Power Back-up', 'Feng Shui / Vaastu Complian...</td>\n",
       "      <td>['Environment4 out of 5', 'Safety4 out of 5', ...</td>\n",
       "      <td>J68850120</td>\n",
       "    </tr>\n",
       "    <tr>\n",
       "      <th>3</th>\n",
       "      <td>2 BHK Flat in Sector 61 Gurgaon</td>\n",
       "      <td>https://www.99acres.com/2-bhk-bedroom-apartmen...</td>\n",
       "      <td>Smart World Orchard</td>\n",
       "      <td>1.47 Crore</td>\n",
       "      <td>? 12,250/sq.ft.</td>\n",
       "      <td>Carpet area: 1200 (111.48 sq.m.)</td>\n",
       "      <td>2 Bedrooms</td>\n",
       "      <td>2 Bathrooms</td>\n",
       "      <td>2 Balconies</td>\n",
       "      <td>Study Room</td>\n",
       "      <td>Sector 61 Gurgaon, Gurgaon, Haryana</td>\n",
       "      <td>2nd   of 4 Floors</td>\n",
       "      <td>None</td>\n",
       "      <td>2023-12-01 00:00:00.000</td>\n",
       "      <td>['Sector 55-56 Metro station', 'Bestech Centra...</td>\n",
       "      <td>Near to metro station of sector 56 and opposit...</td>\n",
       "      <td>None</td>\n",
       "      <td>['Security / Fire Alarm', 'Private Garden / Te...</td>\n",
       "      <td>None</td>\n",
       "      <td>S68849476</td>\n",
       "    </tr>\n",
       "    <tr>\n",
       "      <th>4</th>\n",
       "      <td>2 BHK Flat in Sector 92 Gurgaon</td>\n",
       "      <td>https://www.99acres.com/2-bhk-bedroom-apartmen...</td>\n",
       "      <td>Parkwood Westend</td>\n",
       "      <td>70 Lac</td>\n",
       "      <td>? 5,204/sq.ft.</td>\n",
       "      <td>Super Built up area 1345(124.95 sq.m.)</td>\n",
       "      <td>2 Bedrooms</td>\n",
       "      <td>2 Bathrooms</td>\n",
       "      <td>3 Balconies</td>\n",
       "      <td>Study Room</td>\n",
       "      <td>Sector 92 Gurgaon, Gurgaon, Haryana</td>\n",
       "      <td>5th   of 8 Floors</td>\n",
       "      <td>None</td>\n",
       "      <td>Under Construction</td>\n",
       "      <td>['Yadav Clinic', 'Bangali Clinic', 'Dr. J. S. ...</td>\n",
       "      <td>We are the proud owners of this 2 bhk alongwit...</td>\n",
       "      <td>[]</td>\n",
       "      <td>None</td>\n",
       "      <td>['Environment5 out of 5', 'Safety3 out of 5', ...</td>\n",
       "      <td>L47956793</td>\n",
       "    </tr>\n",
       "  </tbody>\n",
       "</table>\n",
       "</div>"
      ],
      "text/plain": [
       "                     property_name  \\\n",
       "0     2 BHK Flat in Krishna Colony   \n",
       "1        2 BHK Flat in Ashok Vihar   \n",
       "2              2 BHK Flat in Sohna   \n",
       "3  2 BHK Flat in Sector 61 Gurgaon   \n",
       "4  2 BHK Flat in Sector 92 Gurgaon   \n",
       "\n",
       "                                                link                 society  \\\n",
       "0  https://www.99acres.com/2-bhk-bedroom-apartmen...  maa bhagwati residency   \n",
       "1  https://www.99acres.com/2-bhk-bedroom-apartmen...            Apna Enclave   \n",
       "2  https://www.99acres.com/2-bhk-bedroom-apartmen...  Tulsiani Easy in Homes   \n",
       "3  https://www.99acres.com/2-bhk-bedroom-apartmen...     Smart World Orchard   \n",
       "4  https://www.99acres.com/2-bhk-bedroom-apartmen...        Parkwood Westend   \n",
       "\n",
       "        price             area                            areaWithType  \\\n",
       "0      45 Lac   ? 5,000/sq.ft.          Carpet area: 900 (83.61 sq.m.)   \n",
       "1      50 Lac   ? 7,692/sq.ft.          Carpet area: 650 (60.39 sq.m.)   \n",
       "2      40 Lac   ? 6,722/sq.ft.          Carpet area: 595 (55.28 sq.m.)   \n",
       "3  1.47 Crore  ? 12,250/sq.ft.        Carpet area: 1200 (111.48 sq.m.)   \n",
       "4      70 Lac   ? 5,204/sq.ft.  Super Built up area 1345(124.95 sq.m.)   \n",
       "\n",
       "      bedRoom     bathroom      balcony additionalRoom  \\\n",
       "0  2 Bedrooms  2 Bathrooms    1 Balcony           None   \n",
       "1  2 Bedrooms  2 Bathrooms    1 Balcony           None   \n",
       "2  2 Bedrooms  2 Bathrooms  3 Balconies           None   \n",
       "3  2 Bedrooms  2 Bathrooms  2 Balconies     Study Room   \n",
       "4  2 Bedrooms  2 Bathrooms  3 Balconies     Study Room   \n",
       "\n",
       "                               address             floorNum facing  \\\n",
       "0     Krishna Colony, Gurgaon, Haryana    4th   of 4 Floors   West   \n",
       "1   46b, Ashok Vihar, Gurgaon, Haryana    1st   of 3 Floors   West   \n",
       "2              Sohna, Gurgaon, Haryana  12nd   of 14 Floors   None   \n",
       "3  Sector 61 Gurgaon, Gurgaon, Haryana    2nd   of 4 Floors   None   \n",
       "4  Sector 92 Gurgaon, Gurgaon, Haryana    5th   of 8 Floors   None   \n",
       "\n",
       "             agePossession                                    nearbyLocations  \\\n",
       "0          1 to 5 Year Old  ['Chintapurni Mandir', 'State bank ATM', 'Pear...   \n",
       "1             10+ Year Old  ['Chintapurni Mandir', 'Sheetla Mata Mandir', ...   \n",
       "2          0 to 1 Year Old  ['Huda City Metro', 'Golf Course extn road', '...   \n",
       "3  2023-12-01 00:00:00.000  ['Sector 55-56 Metro station', 'Bestech Centra...   \n",
       "4       Under Construction  ['Yadav Clinic', 'Bangali Clinic', 'Dr. J. S. ...   \n",
       "\n",
       "                                         description  \\\n",
       "0  So with lift.Maa bhagwati residency is one of ...   \n",
       "1  Property situated on main road, railway statio...   \n",
       "2  This property is 15 km away from badshapur, gu...   \n",
       "3  Near to metro station of sector 56 and opposit...   \n",
       "4  We are the proud owners of this 2 bhk alongwit...   \n",
       "\n",
       "                                      furnishDetails  \\\n",
       "0  ['3 Fan', '4 Light', '1 Wardrobe', 'No AC', 'N...   \n",
       "1  ['3 Wardrobe', '4 Fan', '1 Exhaust Fan', '1 Ge...   \n",
       "2                                               None   \n",
       "3                                               None   \n",
       "4                                                 []   \n",
       "\n",
       "                                            features  \\\n",
       "0  ['Feng Shui / Vaastu Compliant', 'Security / F...   \n",
       "1  ['Security / Fire Alarm', 'Maintenance Staff',...   \n",
       "2  ['Power Back-up', 'Feng Shui / Vaastu Complian...   \n",
       "3  ['Security / Fire Alarm', 'Private Garden / Te...   \n",
       "4                                               None   \n",
       "\n",
       "                                              rating property_id  \n",
       "0  ['Environment4 out of 5', 'Safety4 out of 5', ...   C68850746  \n",
       "1  ['Environment4 out of 5', 'Safety4 out of 5', ...   H68850564  \n",
       "2  ['Environment4 out of 5', 'Safety4 out of 5', ...   J68850120  \n",
       "3                                               None   S68849476  \n",
       "4  ['Environment5 out of 5', 'Safety3 out of 5', ...   L47956793  "
      ]
     },
     "execution_count": 16,
     "metadata": {},
     "output_type": "execute_result"
    }
   ],
   "source": [
    "df2 = pd.read_sql(\"SELECT * FROM flats\", con=mssql_engine)\n",
    "df2.head()"
   ]
  },
  {
   "cell_type": "code",
   "execution_count": 17,
   "id": "5e563d98",
   "metadata": {},
   "outputs": [
    {
     "data": {
      "text/plain": [
       "(3028, 20)"
      ]
     },
     "execution_count": 17,
     "metadata": {},
     "output_type": "execute_result"
    }
   ],
   "source": [
    "df2.shape"
   ]
  },
  {
   "cell_type": "code",
   "execution_count": 19,
   "id": "6743d8a6",
   "metadata": {},
   "outputs": [
    {
     "data": {
      "text/html": [
       "<div>\n",
       "<style scoped>\n",
       "    .dataframe tbody tr th:only-of-type {\n",
       "        vertical-align: middle;\n",
       "    }\n",
       "\n",
       "    .dataframe tbody tr th {\n",
       "        vertical-align: top;\n",
       "    }\n",
       "\n",
       "    .dataframe thead th {\n",
       "        text-align: right;\n",
       "    }\n",
       "</style>\n",
       "<table border=\"1\" class=\"dataframe\">\n",
       "  <thead>\n",
       "    <tr style=\"text-align: right;\">\n",
       "      <th></th>\n",
       "      <th>property_name</th>\n",
       "      <th>link</th>\n",
       "      <th>society</th>\n",
       "      <th>price</th>\n",
       "      <th>rate</th>\n",
       "      <th>area</th>\n",
       "      <th>areaWithType</th>\n",
       "      <th>bedRoom</th>\n",
       "      <th>bathroom</th>\n",
       "      <th>balcony</th>\n",
       "      <th>...</th>\n",
       "      <th>address</th>\n",
       "      <th>noOfFloor</th>\n",
       "      <th>facing</th>\n",
       "      <th>agePossession</th>\n",
       "      <th>nearbyLocations</th>\n",
       "      <th>description</th>\n",
       "      <th>furnishDetails</th>\n",
       "      <th>features</th>\n",
       "      <th>rating</th>\n",
       "      <th>property_id</th>\n",
       "    </tr>\n",
       "  </thead>\n",
       "  <tbody>\n",
       "    <tr>\n",
       "      <th>0</th>\n",
       "      <td>5 Bedroom House for sale in Sector 70A Gurgaon</td>\n",
       "      <td>https://www.99acres.com/5-bhk-bedroom-independ...</td>\n",
       "      <td>Bptp Visionnaire</td>\n",
       "      <td>5.25 Crore</td>\n",
       "      <td>? 20,115/sq.ft.</td>\n",
       "      <td>(242 sq.m.) Plot Area</td>\n",
       "      <td>Plot area 290(242.48 sq.m.)</td>\n",
       "      <td>5 Bedrooms</td>\n",
       "      <td>4 Bathrooms</td>\n",
       "      <td>3+ Balconies</td>\n",
       "      <td>...</td>\n",
       "      <td>29b, Sector 70A Gurgaon, Gurgaon, Haryana</td>\n",
       "      <td>3 Floors</td>\n",
       "      <td>North-East</td>\n",
       "      <td>0 to 1 Year Old</td>\n",
       "      <td>['Good Earth City Center 2', 'Kunskapsskolan I...</td>\n",
       "      <td>Do you wish to buy an independent house in sec...</td>\n",
       "      <td>['1 Wardrobe', '1 Fan', '1 Exhaust Fan', '1 Ge...</td>\n",
       "      <td>['Feng Shui / Vaastu Compliant', 'Private Gard...</td>\n",
       "      <td>['Environment5 out of 5', 'Lifestyle4 out of 5...</td>\n",
       "      <td>K70037724</td>\n",
       "    </tr>\n",
       "    <tr>\n",
       "      <th>1</th>\n",
       "      <td>5 Bedroom House for sale in Sector 21A Faridabad</td>\n",
       "      <td>https://www.99acres.com/5-bhk-bedroom-independ...</td>\n",
       "      <td>None</td>\n",
       "      <td>5.7 Crore</td>\n",
       "      <td>? 105,751/sq.ft.</td>\n",
       "      <td>(50 sq.m.) Plot Area</td>\n",
       "      <td>Plot area 539(50.07 sq.m.)</td>\n",
       "      <td>5 Bedrooms</td>\n",
       "      <td>4 Bathrooms</td>\n",
       "      <td>2 Balconies</td>\n",
       "      <td>...</td>\n",
       "      <td>Sector 21A Faridabad, Gurgaon, Haryana</td>\n",
       "      <td>2 Floors</td>\n",
       "      <td>None</td>\n",
       "      <td>5 to 10 Year Old</td>\n",
       "      <td>None</td>\n",
       "      <td>Hi, we have an independent house/villa availab...</td>\n",
       "      <td>['1 Water Purifier', '5 Fan', '1 Exhaust Fan',...</td>\n",
       "      <td>['Private Garden / Terrace', 'Park', 'Visitor ...</td>\n",
       "      <td>None</td>\n",
       "      <td>E69288322</td>\n",
       "    </tr>\n",
       "    <tr>\n",
       "      <th>2</th>\n",
       "      <td>10 Bedroom House for sale in Sushant Lok Phase 1</td>\n",
       "      <td>https://www.99acres.com/10-bhk-bedroom-indepen...</td>\n",
       "      <td>None</td>\n",
       "      <td>2.1 Crore</td>\n",
       "      <td>? 38,251/sq.ft.</td>\n",
       "      <td>(51 sq.m.) Plot Area</td>\n",
       "      <td>Plot area 61(51 sq.m.)</td>\n",
       "      <td>10 Bedrooms</td>\n",
       "      <td>10 Bathrooms</td>\n",
       "      <td>3+ Balconies</td>\n",
       "      <td>...</td>\n",
       "      <td>Sushant Lok Phase 1, Gurgaon, Haryana</td>\n",
       "      <td>5 Floors</td>\n",
       "      <td>West</td>\n",
       "      <td>0 to 1 Year Old</td>\n",
       "      <td>['Sector 42-43 metro station', 'Huda city cent...</td>\n",
       "      <td>Monthly rental income is rs1,40,000/- Best opt...</td>\n",
       "      <td>['10 Bed', '3 Fan', '10 Geyser', '2 Light', 'N...</td>\n",
       "      <td>['Maintenance Staff', 'Water Storage', 'Visito...</td>\n",
       "      <td>['Environment5 out of 5', 'Lifestyle5 out of 5...</td>\n",
       "      <td>F69536898</td>\n",
       "    </tr>\n",
       "    <tr>\n",
       "      <th>3</th>\n",
       "      <td>21 Bedroom House for sale in Sector 54 Gurgaon</td>\n",
       "      <td>https://www.99acres.com/21-bhk-bedroom-indepen...</td>\n",
       "      <td>None</td>\n",
       "      <td>5 Crore</td>\n",
       "      <td>? 43,066/sq.ft.</td>\n",
       "      <td>(108 sq.m.) Plot Area</td>\n",
       "      <td>Plot area 129(107.86 sq.m.)</td>\n",
       "      <td>21 Bedrooms</td>\n",
       "      <td>21 Bathrooms</td>\n",
       "      <td>3+ Balconies</td>\n",
       "      <td>...</td>\n",
       "      <td>Sector 54 Gurgaon, Gurgaon, Haryana</td>\n",
       "      <td>5 Floors</td>\n",
       "      <td>North</td>\n",
       "      <td>1 to 5 Year Old</td>\n",
       "      <td>['Sector 53-54 metro station', 'Sector 54 chow...</td>\n",
       "      <td>129 sq yd plot size. 5 floors built up , fully...</td>\n",
       "      <td>['1 Water Purifier', '21 Fan', '1 Fridge', '1 ...</td>\n",
       "      <td>['Feng Shui / Vaastu Compliant', 'Private Gard...</td>\n",
       "      <td>['Environment4 out of 5', 'Lifestyle5 out of 5...</td>\n",
       "      <td>R69483164</td>\n",
       "    </tr>\n",
       "    <tr>\n",
       "      <th>4</th>\n",
       "      <td>5 Bedroom House for sale in Rajiv Chowk</td>\n",
       "      <td>https://www.99acres.com/5-bhk-bedroom-independ...</td>\n",
       "      <td>Hans Enclave</td>\n",
       "      <td>None</td>\n",
       "      <td>? 4,333/sq.ft.</td>\n",
       "      <td>(139 sq.m.) Plot Area</td>\n",
       "      <td>None</td>\n",
       "      <td>None</td>\n",
       "      <td>None</td>\n",
       "      <td>None</td>\n",
       "      <td>...</td>\n",
       "      <td>None</td>\n",
       "      <td>None</td>\n",
       "      <td>None</td>\n",
       "      <td>None</td>\n",
       "      <td>None</td>\n",
       "      <td>None</td>\n",
       "      <td>None</td>\n",
       "      <td>None</td>\n",
       "      <td>None</td>\n",
       "      <td>None</td>\n",
       "    </tr>\n",
       "  </tbody>\n",
       "</table>\n",
       "<p>5 rows × 21 columns</p>\n",
       "</div>"
      ],
      "text/plain": [
       "                                      property_name  \\\n",
       "0    5 Bedroom House for sale in Sector 70A Gurgaon   \n",
       "1  5 Bedroom House for sale in Sector 21A Faridabad   \n",
       "2  10 Bedroom House for sale in Sushant Lok Phase 1   \n",
       "3    21 Bedroom House for sale in Sector 54 Gurgaon   \n",
       "4           5 Bedroom House for sale in Rajiv Chowk   \n",
       "\n",
       "                                                link           society  \\\n",
       "0  https://www.99acres.com/5-bhk-bedroom-independ...  Bptp Visionnaire   \n",
       "1  https://www.99acres.com/5-bhk-bedroom-independ...              None   \n",
       "2  https://www.99acres.com/10-bhk-bedroom-indepen...              None   \n",
       "3  https://www.99acres.com/21-bhk-bedroom-indepen...              None   \n",
       "4  https://www.99acres.com/5-bhk-bedroom-independ...      Hans Enclave   \n",
       "\n",
       "        price              rate                   area  \\\n",
       "0  5.25 Crore   ? 20,115/sq.ft.  (242 sq.m.) Plot Area   \n",
       "1   5.7 Crore  ? 105,751/sq.ft.   (50 sq.m.) Plot Area   \n",
       "2   2.1 Crore   ? 38,251/sq.ft.   (51 sq.m.) Plot Area   \n",
       "3     5 Crore   ? 43,066/sq.ft.  (108 sq.m.) Plot Area   \n",
       "4        None    ? 4,333/sq.ft.  (139 sq.m.) Plot Area   \n",
       "\n",
       "                  areaWithType      bedRoom      bathroom       balcony  ...  \\\n",
       "0  Plot area 290(242.48 sq.m.)   5 Bedrooms   4 Bathrooms  3+ Balconies  ...   \n",
       "1   Plot area 539(50.07 sq.m.)   5 Bedrooms   4 Bathrooms   2 Balconies  ...   \n",
       "2       Plot area 61(51 sq.m.)  10 Bedrooms  10 Bathrooms  3+ Balconies  ...   \n",
       "3  Plot area 129(107.86 sq.m.)  21 Bedrooms  21 Bathrooms  3+ Balconies  ...   \n",
       "4                         None         None          None          None  ...   \n",
       "\n",
       "                                     address noOfFloor      facing  \\\n",
       "0  29b, Sector 70A Gurgaon, Gurgaon, Haryana  3 Floors  North-East   \n",
       "1     Sector 21A Faridabad, Gurgaon, Haryana  2 Floors        None   \n",
       "2      Sushant Lok Phase 1, Gurgaon, Haryana  5 Floors        West   \n",
       "3        Sector 54 Gurgaon, Gurgaon, Haryana  5 Floors       North   \n",
       "4                                       None      None        None   \n",
       "\n",
       "      agePossession                                    nearbyLocations  \\\n",
       "0   0 to 1 Year Old  ['Good Earth City Center 2', 'Kunskapsskolan I...   \n",
       "1  5 to 10 Year Old                                               None   \n",
       "2   0 to 1 Year Old  ['Sector 42-43 metro station', 'Huda city cent...   \n",
       "3   1 to 5 Year Old  ['Sector 53-54 metro station', 'Sector 54 chow...   \n",
       "4              None                                               None   \n",
       "\n",
       "                                         description  \\\n",
       "0  Do you wish to buy an independent house in sec...   \n",
       "1  Hi, we have an independent house/villa availab...   \n",
       "2  Monthly rental income is rs1,40,000/- Best opt...   \n",
       "3  129 sq yd plot size. 5 floors built up , fully...   \n",
       "4                                               None   \n",
       "\n",
       "                                      furnishDetails  \\\n",
       "0  ['1 Wardrobe', '1 Fan', '1 Exhaust Fan', '1 Ge...   \n",
       "1  ['1 Water Purifier', '5 Fan', '1 Exhaust Fan',...   \n",
       "2  ['10 Bed', '3 Fan', '10 Geyser', '2 Light', 'N...   \n",
       "3  ['1 Water Purifier', '21 Fan', '1 Fridge', '1 ...   \n",
       "4                                               None   \n",
       "\n",
       "                                            features  \\\n",
       "0  ['Feng Shui / Vaastu Compliant', 'Private Gard...   \n",
       "1  ['Private Garden / Terrace', 'Park', 'Visitor ...   \n",
       "2  ['Maintenance Staff', 'Water Storage', 'Visito...   \n",
       "3  ['Feng Shui / Vaastu Compliant', 'Private Gard...   \n",
       "4                                               None   \n",
       "\n",
       "                                              rating property_id  \n",
       "0  ['Environment5 out of 5', 'Lifestyle4 out of 5...   K70037724  \n",
       "1                                               None   E69288322  \n",
       "2  ['Environment5 out of 5', 'Lifestyle5 out of 5...   F69536898  \n",
       "3  ['Environment4 out of 5', 'Lifestyle5 out of 5...   R69483164  \n",
       "4                                               None        None  \n",
       "\n",
       "[5 rows x 21 columns]"
      ]
     },
     "execution_count": 19,
     "metadata": {},
     "output_type": "execute_result"
    }
   ],
   "source": [
    "df3 = pd.read_sql(\"SELECT * FROM [independent-house]\", con=mssql_engine)\n",
    "df3.head()"
   ]
  },
  {
   "cell_type": "code",
   "execution_count": 20,
   "id": "6ed5c676",
   "metadata": {},
   "outputs": [
    {
     "data": {
      "text/plain": [
       "(1095, 21)"
      ]
     },
     "execution_count": 20,
     "metadata": {},
     "output_type": "execute_result"
    }
   ],
   "source": [
    "df3.shape"
   ]
  },
  {
   "cell_type": "code",
   "execution_count": 5,
   "id": "e526ffc5",
   "metadata": {},
   "outputs": [
    {
     "data": {
      "text/html": [
       "<div>\n",
       "<style scoped>\n",
       "    .dataframe tbody tr th:only-of-type {\n",
       "        vertical-align: middle;\n",
       "    }\n",
       "\n",
       "    .dataframe tbody tr th {\n",
       "        vertical-align: top;\n",
       "    }\n",
       "\n",
       "    .dataframe thead th {\n",
       "        text-align: right;\n",
       "    }\n",
       "</style>\n",
       "<table border=\"1\" class=\"dataframe\">\n",
       "  <thead>\n",
       "    <tr style=\"text-align: right;\">\n",
       "      <th></th>\n",
       "      <th>PropertyName</th>\n",
       "      <th>PropertySubName</th>\n",
       "      <th>NearbyLocations</th>\n",
       "      <th>LocationAdvantages</th>\n",
       "      <th>Link</th>\n",
       "      <th>PriceDetails</th>\n",
       "      <th>TopFacilities</th>\n",
       "    </tr>\n",
       "  </thead>\n",
       "  <tbody>\n",
       "    <tr>\n",
       "      <th>0</th>\n",
       "      <td>Smartworld One DXP</td>\n",
       "      <td>2, 3, 4 BHK Apartment in Sector 113, Gurgaon</td>\n",
       "      <td>['Bajghera Road', 'Palam Vihar Halt', 'DPSG Pa...</td>\n",
       "      <td>{'Bajghera Road': '800 Meter', 'Palam Vihar Ha...</td>\n",
       "      <td>https://www.99acres.com/smartworld-one-dxp-sec...</td>\n",
       "      <td>{'2 BHK': {'building_type': 'Apartment', 'area...</td>\n",
       "      <td>['Swimming Pool', 'Salon', 'Restaurant', 'Spa'...</td>\n",
       "    </tr>\n",
       "  </tbody>\n",
       "</table>\n",
       "</div>"
      ],
      "text/plain": [
       "         PropertyName                               PropertySubName  \\\n",
       "0  Smartworld One DXP  2, 3, 4 BHK Apartment in Sector 113, Gurgaon   \n",
       "\n",
       "                                     NearbyLocations  \\\n",
       "0  ['Bajghera Road', 'Palam Vihar Halt', 'DPSG Pa...   \n",
       "\n",
       "                                  LocationAdvantages  \\\n",
       "0  {'Bajghera Road': '800 Meter', 'Palam Vihar Ha...   \n",
       "\n",
       "                                                Link  \\\n",
       "0  https://www.99acres.com/smartworld-one-dxp-sec...   \n",
       "\n",
       "                                        PriceDetails  \\\n",
       "0  {'2 BHK': {'building_type': 'Apartment', 'area...   \n",
       "\n",
       "                                       TopFacilities  \n",
       "0  ['Swimming Pool', 'Salon', 'Restaurant', 'Spa'...  "
      ]
     },
     "execution_count": 5,
     "metadata": {},
     "output_type": "execute_result"
    }
   ],
   "source": [
    "app_df = pd.read_csv(r'C:\\Users\\wasia\\Desktop\\Data Science\\Data science Property Price Prediction Project\\Data\\appartments.csv')\n",
    "app_df.head(1)"
   ]
  },
  {
   "cell_type": "code",
   "execution_count": 6,
   "id": "7902d546",
   "metadata": {},
   "outputs": [
    {
     "data": {
      "text/plain": [
       "(247, 7)"
      ]
     },
     "execution_count": 6,
     "metadata": {},
     "output_type": "execute_result"
    }
   ],
   "source": [
    "app_df.shape"
   ]
  },
  {
   "cell_type": "code",
   "execution_count": 7,
   "id": "219308eb",
   "metadata": {},
   "outputs": [
    {
     "data": {
      "text/plain": [
       "247"
      ]
     },
     "execution_count": 7,
     "metadata": {},
     "output_type": "execute_result"
    }
   ],
   "source": [
    "# Upload apartments data to MySQL\n",
    "app_df.to_sql('appartments',con=mysql_engine,  if_exists='replace',index=False)"
   ]
  },
  {
   "cell_type": "code",
   "execution_count": 9,
   "id": "6b03e5de",
   "metadata": {},
   "outputs": [
    {
     "data": {
      "text/plain": [
       "247"
      ]
     },
     "execution_count": 9,
     "metadata": {},
     "output_type": "execute_result"
    }
   ],
   "source": [
    "# Upload apartments data to MSSQL\n",
    "app_df.to_sql('appartments',con=mssql_engine,  if_exists='replace',index=False)"
   ]
  },
  {
   "cell_type": "code",
   "execution_count": null,
   "id": "9166aa92",
   "metadata": {},
   "outputs": [],
   "source": []
  }
 ],
 "metadata": {
  "kernelspec": {
   "display_name": "Python 3",
   "language": "python",
   "name": "python3"
  },
  "language_info": {
   "codemirror_mode": {
    "name": "ipython",
    "version": 3
   },
   "file_extension": ".py",
   "mimetype": "text/x-python",
   "name": "python",
   "nbconvert_exporter": "python",
   "pygments_lexer": "ipython3",
   "version": "3.13.5"
  }
 },
 "nbformat": 4,
 "nbformat_minor": 5
}
